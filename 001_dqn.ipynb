{
 "cells": [
  {
   "cell_type": "code",
   "execution_count": 261,
   "metadata": {},
   "outputs": [],
   "source": [
    "import math, random\n",
    "\n",
    "import gym\n",
    "import numpy as np\n",
    "\n",
    "import torch\n",
    "import torch.nn as nn\n",
    "import torch.optim as optim\n",
    "import torch.autograd as autograd \n",
    "import torch.nn.functional as F\n"
   ]
  },
  {
   "cell_type": "code",
   "execution_count": 262,
   "metadata": {},
   "outputs": [],
   "source": [
    "import imageio\n",
    "from IPython.display import clear_output\n",
    "import matplotlib.pyplot as plt\n",
    "%matplotlib inline"
   ]
  },
  {
   "cell_type": "code",
   "execution_count": 263,
   "metadata": {},
   "outputs": [
    {
     "name": "stdout",
     "output_type": "stream",
     "text": [
      "Gym version: 0.26.2\n",
      "Torch version: 1.13.1+cu117\n"
     ]
    }
   ],
   "source": [
    "print(\"Gym version:\", gym.__version__)\n",
    "print(\"Torch version:\", torch.__version__)"
   ]
  },
  {
   "cell_type": "markdown",
   "metadata": {},
   "source": [
    "<h3>Use Cuda</h3>"
   ]
  },
  {
   "cell_type": "code",
   "execution_count": 264,
   "metadata": {},
   "outputs": [],
   "source": [
    "# USE_CUDA = torch.cuda.is_available()\n",
    "USE_CUDA = \"cpu\"\n",
    "# Variable = lambda *args, **kwargs: autograd.Variable(*args, **kwargs).to(USE_CUDA) if USE_CUDA else autograd.Variable(*args, **kwargs)\n",
    "torch_tensor = lambda *args, **kwargs: torch.tensor(*args, **kwargs).to(USE_CUDA) if USE_CUDA else torch.tensor(*args, **kwargs)"
   ]
  },
  {
   "cell_type": "markdown",
   "metadata": {},
   "source": [
    "<h2>Cart Pole Environment</h2>"
   ]
  },
  {
   "cell_type": "markdown",
   "metadata": {},
   "source": [
    "## Action Space\n",
    "\n",
    "| Num | Action                   |\n",
    "|-----|--------------------------|\n",
    "| 0   | Push cart to the left    |\n",
    "| 1   | Push cart to the right   |\n",
    "\n",
    "\n",
    "## Observation Space\n",
    "\n",
    "| Num | Observation              | Min           | Max           |\n",
    "|-----|--------------------------|---------------|---------------|\n",
    "| 0   | Cart Position            | -4.8          | 4.8           |\n",
    "| 1   | Cart Velocity            | -Inf          | Inf           |\n",
    "| 2   | Pole Angle               | ~ -0.418 rad  | ~ 0.418 rad   |\n",
    "| 3   | Pole Angular Velocity    | -Inf          | Inf           |"
   ]
  },
  {
   "cell_type": "code",
   "execution_count": 265,
   "metadata": {},
   "outputs": [],
   "source": [
    "env_id = \"CartPole-v0\"\n",
    "env = gym.make(env_id)"
   ]
  },
  {
   "cell_type": "code",
   "execution_count": 266,
   "metadata": {},
   "outputs": [
    {
     "name": "stdout",
     "output_type": "stream",
     "text": [
      "Step 0: [ 0.02727336 -0.20172954  0.03625453  0.32351476] 1.0 False False {}\n",
      "Step 1: [ 0.02323877 -0.00714208  0.04272482  0.04248186] 1.0 False False {}\n",
      "Step 2: [ 0.02309593 -0.20284982  0.04357446  0.34833285] 1.0 False False {}\n",
      "Step 3: [ 0.01903893 -0.00837385  0.05054112  0.06970263] 1.0 False False {}\n",
      "Step 4: [ 0.01887146 -0.2041826   0.05193517  0.37789345] 1.0 False False {}\n",
      "Step 5: [ 0.0147878  -0.40000218  0.05949304  0.68648887] 1.0 False False {}\n",
      "Step 6: [ 0.00678776 -0.20575435  0.07322282  0.41311327] 1.0 False False {}\n",
      "Step 7: [ 0.00267267 -0.01174257  0.08148509  0.14438367] 1.0 False False {}\n",
      "Step 8: [ 0.00243782  0.18212362  0.08437276 -0.12152059] 1.0 False False {}\n",
      "Step 9: [ 0.00608029  0.37594175  0.08194234 -0.38643745] 1.0 False False {}\n"
     ]
    }
   ],
   "source": [
    "# Testing the environment\n",
    "state, info = env.reset(seed=42)\n",
    "for i in range(10):\n",
    "   # action = policy(observation)  # User-defined policy function\n",
    "   # NOTE: random policy\n",
    "   action = env.action_space.sample()\n",
    "   next_state, reward, done, truncated, info = env.step(action)\n",
    "   print(f\"Step {i}:\",next_state, reward, done, truncated, info)\n",
    "\n",
    "   state = next_state\n",
    "\n",
    "   if done or truncated:\n",
    "      observation, info = env.reset()\n",
    "env.close()"
   ]
  },
  {
   "cell_type": "code",
   "execution_count": 267,
   "metadata": {},
   "outputs": [
    {
     "name": "stdout",
     "output_type": "stream",
     "text": [
      "Action Space: Discrete(2)\n",
      "Observation Space: Box([-4.8000002e+00 -3.4028235e+38 -4.1887903e-01 -3.4028235e+38], [4.8000002e+00 3.4028235e+38 4.1887903e-01 3.4028235e+38], (4,), float32)\n",
      "Rewards: (-inf, inf)\n"
     ]
    }
   ],
   "source": [
    "# Checking Environment\n",
    "print(\"Action Space:\", env.action_space)\n",
    "print(\"Observation Space:\", env.observation_space)\n",
    "print(\"Rewards:\", env.reward_range)"
   ]
  },
  {
   "cell_type": "markdown",
   "metadata": {},
   "source": [
    "<h2>Replay Buffer</h2>"
   ]
  },
  {
   "cell_type": "code",
   "execution_count": 268,
   "metadata": {},
   "outputs": [],
   "source": [
    "from collections import deque\n",
    "\n",
    "class ReplayBuffer(object):\n",
    "    def __init__(self, capacity):\n",
    "        self.buffer = deque(maxlen=capacity)\n",
    "    \n",
    "    # Add a new experience to the buffer\n",
    "    def push(self, state, action, reward, next_state, done):\n",
    "        experience = (state, action, reward, next_state, done)\n",
    "        self.buffer.append(experience)\n",
    "    \n",
    "    # Function to transform to tensors\n",
    "    def toTensor(self, states, actions, rewards, next_states, dones):\n",
    "        states = torch.tensor(states, dtype=torch.float32)\n",
    "        actions = torch.tensor(actions, dtype=torch.long).view(-1, 1)\n",
    "        rewards = torch.tensor(rewards, dtype=torch.float32).view(-1, 1)\n",
    "        next_states = torch.tensor(next_states, dtype=torch.float32, requires_grad=False)\n",
    "        dones = torch.tensor(dones, dtype=torch.float32).view(-1, 1)\n",
    "\n",
    "        return states, actions, rewards, next_states, dones\n",
    "\n",
    "    def sample(self, batch_size):\n",
    "        states, actions, rewards, next_states, dones = zip(*random.sample(self.buffer, batch_size))\n",
    "        # TODO: Add the conversion to Pytorch tensor here\n",
    "        # In which format I need it?\n",
    "\n",
    "        # return np.concatenate(states), actions, rewards, np.concatenate(next_states), dones\n",
    "        return self.toTensor(states, actions, rewards, next_states, dones)\n",
    "\n",
    "    def __len__(self):\n",
    "        return len(self.buffer)"
   ]
  },
  {
   "cell_type": "code",
   "execution_count": 269,
   "metadata": {},
   "outputs": [
    {
     "name": "stdout",
     "output_type": "stream",
     "text": [
      "10\n",
      "torch.Size([5, 4])\n",
      "torch.Size([5, 1])\n",
      "torch.Size([5, 1])\n",
      "torch.Size([5, 4])\n",
      "torch.Size([5, 1])\n"
     ]
    }
   ],
   "source": [
    "# Check the ReplayBuffer is working\n",
    "replay_buffer = ReplayBuffer(1000)\n",
    "\n",
    "state, info = env.reset(seed=42)\n",
    "for i in range(10):\n",
    "   # action = policy(observation)  # User-defined policy function\n",
    "   # NOTE: random policy\n",
    "   action = env.action_space.sample()\n",
    "   next_state, reward, done, truncated, info = env.step(action)\n",
    "   # print(f\"Step {i}:\",next_state, reward, done, truncated, info)\n",
    "\n",
    "   # Push tuples to the ExperienceReplay\n",
    "   replay_buffer.push(state, action, reward, next_state, done)\n",
    "\n",
    "   state = next_state\n",
    "\n",
    "   if done or truncated:\n",
    "      observation, info = env.reset()\n",
    "env.close()\n",
    "\n",
    "states, actions, rewards, next_states, dones = replay_buffer.sample(5)\n",
    "print(len(replay_buffer))\n",
    "print(states.shape)\n",
    "print(actions.shape)\n",
    "print(rewards.shape)\n",
    "print(next_states.shape)\n",
    "print(dones.shape)"
   ]
  },
  {
   "cell_type": "markdown",
   "metadata": {},
   "source": [
    "<h2>Epsilon greedy exploration</h2>"
   ]
  },
  {
   "cell_type": "code",
   "execution_count": 270,
   "metadata": {},
   "outputs": [],
   "source": [
    "epsilon_start = 1.0\n",
    "epsilon_final = 0.01\n",
    "epsilon_decay = 500\n",
    "\n",
    "epsilon_by_frame = lambda frame_idx: epsilon_final + (epsilon_start - epsilon_final) * math.exp(-1. * frame_idx / epsilon_decay)"
   ]
  },
  {
   "cell_type": "code",
   "execution_count": 271,
   "metadata": {},
   "outputs": [
    {
     "data": {
      "text/plain": [
       "[<matplotlib.lines.Line2D at 0x7ff7d42f5fd0>]"
      ]
     },
     "execution_count": 271,
     "metadata": {},
     "output_type": "execute_result"
    },
    {
     "data": {
      "image/png": "[encoded data removed]",
      "text/plain": [
       "<Figure size 640x480 with 1 Axes>"
      ]
     },
     "metadata": {},
     "output_type": "display_data"
    }
   ],
   "source": [
    "plt.plot([epsilon_by_frame(i) for i in range(10000)])"
   ]
  },
  {
   "cell_type": "markdown",
   "metadata": {},
   "source": [
    "<h2>Deep Q Network</h2>"
   ]
  },
  {
   "cell_type": "code",
   "execution_count": 272,
   "metadata": {},
   "outputs": [],
   "source": [
    "class DQN(nn.Module):\n",
    "    def __init__(self, num_inputs, num_actions):\n",
    "        super(DQN, self).__init__()\n",
    "        \n",
    "        self.layers = nn.Sequential(\n",
    "            nn.Linear(num_inputs, 128),\n",
    "            nn.ReLU(),\n",
    "            nn.Linear(128, 128),\n",
    "            nn.ReLU(),\n",
    "            nn.Linear(128, num_actions)\n",
    "        )\n",
    "        \n",
    "    def forward(self, x):\n",
    "        return self.layers(x)\n",
    "    \n",
    "    def act(self, state, epsilon):\n",
    "        if random.random() < epsilon:\n",
    "            return random.choice(range(env.action_space.n))\n",
    "        else:\n",
    "            with torch.no_grad():\n",
    "                state   = torch.tensor(state, dtype=torch.float32, requires_grad=False).unsqueeze(0)\n",
    "                q_values = self.forward(state)\n",
    "                return int(torch.argmax(q_values, dim=1))\n",
    "    \n",
    "        # if random.random() > epsilon:\n",
    "        #     state   = torch.tensor(state, dtype=torch.float32, requires_grad=False).unsqueeze(0)\n",
    "        #     # state   = torch_tensor(torch.FloatTensor(state).unsqueeze(0), requires_grad=False)\n",
    "        #     q_value = self.forward(state)\n",
    "        #     action  = q_value.max(1)[1].data[0]\n",
    "        # else:\n",
    "        #     action = random.randrange(env.action_space.n)\n",
    "        # return action"
   ]
  },
  {
   "cell_type": "code",
   "execution_count": 273,
   "metadata": {},
   "outputs": [],
   "source": [
    "model = DQN(env.observation_space.shape[0], env.action_space.n)\n",
    "\n",
    "# if USE_CUDA:\n",
    "#     model = model.cuda()\n",
    "    \n",
    "optimizer = optim.Adam(model.parameters())\n",
    "\n",
    "replay_buffer = ReplayBuffer(1000)"
   ]
  },
  {
   "cell_type": "code",
   "execution_count": 274,
   "metadata": {},
   "outputs": [
    {
     "name": "stdout",
     "output_type": "stream",
     "text": [
      "tensor([[ 0.1525, -0.0712],\n",
      "        [ 0.1375, -0.0895],\n",
      "        [ 0.1136, -0.0823],\n",
      "        [ 0.0072, -0.0557],\n",
      "        [ 0.1835, -0.1897]], grad_fn=<AddmmBackward0>)\n",
      "torch.Size([5, 2])\n"
     ]
    }
   ],
   "source": [
    "# Network forward pass\n",
    "input_check = torch.randn(5, 4)\n",
    "q_values = model(input_check)\n",
    "print(q_values)\n",
    "print(q_values.shape)"
   ]
  },
  {
   "cell_type": "code",
   "execution_count": 275,
   "metadata": {},
   "outputs": [
    {
     "name": "stdout",
     "output_type": "stream",
     "text": [
      "1\n"
     ]
    }
   ],
   "source": [
    "# Actor\n",
    "input_check = torch.randn(1, 4)\n",
    "action = model.act(input_check, epsilon=0.5)\n",
    "print(action)"
   ]
  },
  {
   "cell_type": "markdown",
   "metadata": {},
   "source": [
    "<h2>Computing Temporal Difference Loss</h2>"
   ]
  },
  {
   "cell_type": "code",
   "execution_count": 276,
   "metadata": {},
   "outputs": [],
   "source": [
    "def compute_td_loss(batch_size):\n",
    "    state, action, reward, next_state, done = replay_buffer.sample(batch_size)\n",
    "\n",
    "    # NOTE: the loss is only calculated in the j-th q-value(state,a_j)\n",
    "    # q_values from the model\n",
    "    q_values      = model(state)\n",
    "    q_value       = q_values.gather(1, action).squeeze(1)\n",
    "\n",
    "    # NOTE: I don't if I should don't allow to calculate gradients in this step\n",
    "    # Yep, I think to differentiate between the old a new weights, but for now\n",
    "    # it's ok to keep it in this way\n",
    "    # y_j calculation: expected q_value\n",
    "    next_q_values    = model(next_state)\n",
    "    next_q_value     = next_q_values.max(1)[0]\n",
    "    expected_q_value = reward + gamma * next_q_value * (1 - done)\n",
    "\n",
    "    loss = (expected_q_value.data - q_value).pow(2).mean()\n",
    "\n",
    "    # loss = (q_value - Variable(expected_q_value.data)).pow(2).mean()\n",
    "        \n",
    "    optimizer.zero_grad()\n",
    "    loss.backward()\n",
    "    optimizer.step()\n",
    "    \n",
    "    return loss"
   ]
  },
  {
   "cell_type": "code",
   "execution_count": 277,
   "metadata": {},
   "outputs": [],
   "source": [
    "def plot(frame_idx, rewards, losses):\n",
    "    clear_output(True)\n",
    "    plt.figure(figsize=(20,5))\n",
    "    plt.subplot(131)\n",
    "    plt.title('frame %s. reward: %s' % (frame_idx, np.mean(rewards[-10:])))\n",
    "    plt.plot(rewards)\n",
    "    plt.subplot(132)\n",
    "    plt.title('loss')\n",
    "    plt.plot(losses)\n",
    "    plt.show()"
   ]
  },
  {
   "cell_type": "markdown",
   "metadata": {},
   "source": [
    "<h2>Training</h2>"
   ]
  },
  {
   "cell_type": "code",
   "execution_count": 279,
   "metadata": {},
   "outputs": [
    {
     "data": {
      "image/png": "[encoded data removed]",
      "text/plain": [
       "<Figure size 2000x500 with 2 Axes>"
      ]
     },
     "metadata": {},
     "output_type": "display_data"
    }
   ],
   "source": [
    "num_frames = 10000\n",
    "batch_size = 32\n",
    "gamma      = 0.99\n",
    "\n",
    "losses = []\n",
    "all_rewards = []\n",
    "episode_reward = 0\n",
    "\n",
    "state, info = env.reset()\n",
    "for frame_idx in range(1, num_frames + 1):\n",
    "    epsilon = epsilon_by_frame(frame_idx)\n",
    "    action = model.act(state, epsilon) # NOTE: policy\n",
    "    \n",
    "    next_state, reward, done, _, _ = env.step(action)\n",
    "    replay_buffer.push(state, action, reward, next_state, done)\n",
    "    \n",
    "    state = next_state\n",
    "    episode_reward += reward\n",
    "    \n",
    "    if done:\n",
    "        state, info = env.reset()\n",
    "        all_rewards.append(episode_reward)\n",
    "        episode_reward = 0\n",
    "    \n",
    "    # NOTE: At the begining, it needed some iteration to fill\n",
    "    # the replay buffer\n",
    "    if len(replay_buffer) > batch_size:\n",
    "        loss = compute_td_loss(batch_size)\n",
    "        losses.append(loss.item())\n",
    "        \n",
    "    if frame_idx % 200 == 0:\n",
    "        plot(frame_idx, all_rewards, losses)"
   ]
  },
  {
   "cell_type": "markdown",
   "metadata": {},
   "source": [
    "<p><hr></p>"
   ]
  }
 ],
 "metadata": {
  "kernelspec": {
   "display_name": "rl-project",
   "language": "python",
   "name": "python3"
  },
  "language_info": {
   "codemirror_mode": {
    "name": "ipython",
    "version": 3
   },
   "file_extension": ".py",
   "mimetype": "text/x-python",
   "name": "python",
   "nbconvert_exporter": "python",
   "pygments_lexer": "ipython3",
   "version": "3.7.16"
  }
 },
 "nbformat": 4,
 "nbformat_minor": 2
}
